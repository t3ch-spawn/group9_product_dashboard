{
  "nbformat": 4,
  "nbformat_minor": 0,
  "metadata": {
    "colab": {
      "provenance": [],
      "authorship_tag": "ABX9TyPzHLp9YHuOafTkT1SDnXfL",
      "include_colab_link": true
    },
    "kernelspec": {
      "name": "python3",
      "display_name": "Python 3"
    },
    "language_info": {
      "name": "python"
    }
  },
  "cells": [
    {
      "cell_type": "markdown",
      "metadata": {
        "id": "view-in-github",
        "colab_type": "text"
      },
      "source": [
        "<a href=\"https://colab.research.google.com/github/t3ch-spawn/group9_product_dashboard/blob/main/project.ipynb\" target=\"_parent\"><img src=\"https://colab.research.google.com/assets/colab-badge.svg\" alt=\"Open In Colab\"/></a>"
      ]
    },
    {
      "cell_type": "code",
      "execution_count": 1,
      "metadata": {
        "id": "cN6ih9yTQmLI"
      },
      "outputs": [],
      "source": [
        "import pandas as pd"
      ]
    },
    {
      "cell_type": "code",
      "source": [
        "# Load the CSV file\n",
        "file_path = \"/products_db.csv\"\n",
        "df = pd.read_csv(file_path)"
      ],
      "metadata": {
        "id": "iVc8kO0sQtUz"
      },
      "execution_count": 5,
      "outputs": []
    },
    {
      "cell_type": "code",
      "source": [
        "# Calculate total cost\n",
        "df['total_cost'] = (df['cost_price'] + df['holding_cost']) * df['units_sold']\n"
      ],
      "metadata": {
        "id": "7ukNxCTLRTco"
      },
      "execution_count": 6,
      "outputs": []
    },
    {
      "cell_type": "code",
      "source": [
        "# Calculate average daily sales\n",
        "df['average_daily_sales'] = df['units_sold'] / 30"
      ],
      "metadata": {
        "id": "RX1vgWNBRWQY"
      },
      "execution_count": 7,
      "outputs": []
    },
    {
      "cell_type": "code",
      "source": [
        "# Display the updated dataframe\n",
        "print(\"Updated Product Data:\\n\")\n",
        "print(df)"
      ],
      "metadata": {
        "colab": {
          "base_uri": "https://localhost:8080/"
        },
        "id": "d0wzOlPJRazH",
        "outputId": "c28f780c-73bd-4a87-cdaa-c1b4bc39abd7"
      },
      "execution_count": 8,
      "outputs": [
        {
          "output_type": "stream",
          "name": "stdout",
          "text": [
            "Updated Product Data:\n",
            "\n",
            "    id              title     category  cost_price  selling_price  units_sold  \\\n",
            "0  NaN     wireless_mouse  electronics        3500           5000         120   \n",
            "1  NaN         hair_cream       beauty        1800           2800         150   \n",
            "2  NaN             Tshirt     clothing        2000           3200         200   \n",
            "3  NaN        denim_jeans     clothing        8000          10000         120   \n",
            "4  NaN         headphones  electronics       15000          22000          50   \n",
            "5  NaN       water_bottle  kitchenware        4000           6500          80   \n",
            "6  NaN        smart_watch  electronics       30000          24000          55   \n",
            "7  NaN       nivea_lotion       beauty        1700           2300         540   \n",
            "8  NaN        ceramic_pot  kitchenware        7000          10000         210   \n",
            "9  NaN               lamp   home_decor       10000          13000         170   \n",
            "10 NaN  bluetooth_speaker  electronics       25000          35000         180   \n",
            "11 NaN   wireless_earbuds  electronics       18000          27000         200   \n",
            "12 NaN         wall_clock   home_decor        6000           9000         120   \n",
            "13 NaN             Mirror   home_decor        9000          13000         125   \n",
            "14 NaN         frying_pan  kitchenware        8000          11000         160   \n",
            "15 NaN        cutlery_set   kitcheware        5000           8000         190   \n",
            "16 NaN           sneakers     clothing       15000          22000         150   \n",
            "17 NaN            handbag     clothing       18000          25000          80   \n",
            "18 NaN         hair_dryer       beauty       12000          17000         110   \n",
            "19 NaN         face_serum       beauty        5500           8500         150   \n",
            "\n",
            "    units_in_stock  lead_time  holding_cost  total_cost  average_daily_sales  \n",
            "0               30          5          1000      540000             4.000000  \n",
            "1               40         10           650      367500             5.000000  \n",
            "2               50          7           400      480000             6.666667  \n",
            "3              300          5           200      984000             4.000000  \n",
            "4              200          7           500      775000             1.666667  \n",
            "5              150         10           450      356000             2.666667  \n",
            "6               30          8          1800     1749000             1.833333  \n",
            "7              160          5           700     1296000            18.000000  \n",
            "8               30          9           700     1617000             7.000000  \n",
            "9               80          4           900     1853000             5.666667  \n",
            "10              40          7          3000     5040000             6.000000  \n",
            "11              50          6          2200     4040000             6.666667  \n",
            "12              25          5           700      804000             4.000000  \n",
            "13              28          6          1000     1250000             4.166667  \n",
            "14              30          5           900     1424000             5.333333  \n",
            "15              45          4           600     1064000             6.333333  \n",
            "16              35          6          1800     2520000             5.000000  \n",
            "17              15          7          2000     1600000             2.666667  \n",
            "18              25          5          1200     1452000             3.666667  \n",
            "19              40          4           700      930000             5.000000  \n"
          ]
        }
      ]
    },
    {
      "cell_type": "code",
      "source": [
        "# Save the new data to a new CSV file\n",
        "output_file = \"products_db_updated.csv\"\n",
        "df.to_csv(output_file, index=False)\n",
        "\n",
        "print(f\"\\n✅ File saved successfully as '{output_file}'\")\n"
      ],
      "metadata": {
        "colab": {
          "base_uri": "https://localhost:8080/"
        },
        "id": "FB5QyhHhRhCU",
        "outputId": "0e72e51c-1e53-4b43-b1c6-e364a3bbdba0"
      },
      "execution_count": 9,
      "outputs": [
        {
          "output_type": "stream",
          "name": "stdout",
          "text": [
            "\n",
            "✅ File saved successfully as 'products_db_updated.csv'\n"
          ]
        }
      ]
    }
  ]
}